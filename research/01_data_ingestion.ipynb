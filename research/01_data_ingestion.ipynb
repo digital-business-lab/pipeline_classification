{
 "cells": [
  {
   "cell_type": "code",
   "execution_count": 9,
   "metadata": {},
   "outputs": [],
   "source": [
    "import os"
   ]
  },
  {
   "cell_type": "code",
   "execution_count": 10,
   "metadata": {},
   "outputs": [],
   "source": [
    "os.chdir(\"C:\\\\Users\\\\user\\\\Desktop\\\\BHS\\\\Coding\\\\3_ML_Ops_Pipeline_AWS\")"
   ]
  },
  {
   "cell_type": "code",
   "execution_count": 11,
   "metadata": {},
   "outputs": [
    {
     "data": {
      "text/plain": [
       "'C:\\\\Users\\\\user\\\\Desktop\\\\BHS\\\\Coding\\\\3_ML_Ops_Pipeline_AWS'"
      ]
     },
     "execution_count": 11,
     "metadata": {},
     "output_type": "execute_result"
    }
   ],
   "source": [
    "%pwd"
   ]
  },
  {
   "cell_type": "code",
   "execution_count": 12,
   "metadata": {},
   "outputs": [],
   "source": [
    "# src\\cnnClassifier\\entity\\config_entity.py\n",
    "from dataclasses import dataclass\n",
    "from pathlib import Path\n",
    "\n",
    "\n",
    "@dataclass(frozen=True)\n",
    "class DataIngestionConfig:\n",
    "    root_dir: Path\n",
    "    source_URL: str\n",
    "    local_data_file: Path\n",
    "    unzip_dir: Path\n",
    "    storage_format: str "
   ]
  },
  {
   "cell_type": "code",
   "execution_count": 13,
   "metadata": {},
   "outputs": [],
   "source": [
    "from cnnClassifier.constants import *\n",
    "from cnnClassifier.utils.common import read_yaml, create_directories"
   ]
  },
  {
   "cell_type": "code",
   "execution_count": 14,
   "metadata": {},
   "outputs": [],
   "source": [
    "# src\\cnnClassifier\\config\\configuration.py\n",
    "class ConfigurationManager:\n",
    "    def __init__(\n",
    "        self,\n",
    "        config_filepath = CONFIG_FILE_PATH,\n",
    "        params_filepath = PARAMS_FILE_PATH):\n",
    "\n",
    "        self.config = read_yaml(config_filepath)\n",
    "        self.params = read_yaml(params_filepath)\n",
    "\n",
    "        create_directories([self.config.artifacts_root])\n",
    "\n",
    "\n",
    "    \n",
    "    def get_data_ingestion_config(self) -> DataIngestionConfig:\n",
    "        config = self.config.data_ingestion\n",
    "\n",
    "        create_directories([config.root_dir])\n",
    "\n",
    "        data_ingestion_config = DataIngestionConfig(\n",
    "            root_dir=config.root_dir,\n",
    "            source_URL=config.source_URL,\n",
    "            local_data_file=config.local_data_file,\n",
    "            unzip_dir=config.unzip_dir,\n",
    "            storage_format=self.params.get(\"STORAGE_FORMAT\", \"original\")\n",
    "        )\n",
    "\n",
    "        return data_ingestion_config\n",
    "      "
   ]
  },
  {
   "cell_type": "code",
   "execution_count": 15,
   "metadata": {},
   "outputs": [],
   "source": [
    "import os\n",
    "import zipfile\n",
    "import gdown\n",
    "from cnnClassifier import logger\n",
    "from cnnClassifier.utils.common import get_size\n",
    "from pathlib import Path\n",
    "import shutil"
   ]
  },
  {
   "cell_type": "code",
   "execution_count": 33,
   "metadata": {},
   "outputs": [],
   "source": [
    "# src\\cnnClassifier\\components\\data_ingestion.py\n",
    "class DataIngestion:\n",
    "    def __init__(self, config: DataIngestionConfig):\n",
    "        self.config = config\n",
    "\n",
    "     \n",
    "    def download_file(self)-> str:\n",
    "        '''\n",
    "        Fetch data from the url\n",
    "        '''\n",
    "\n",
    "        try: \n",
    "            dataset_url = self.config.source_URL\n",
    "            zip_download_dir = self.config.local_data_file\n",
    "            os.makedirs(\"artifacts/data_ingestion\", exist_ok=True)\n",
    "            logger.info(f\"Downloading data from {dataset_url} into file {zip_download_dir}\")\n",
    "\n",
    "            #file_id = dataset_url.split(\"/\")[-2]\n",
    "            #prefix = 'https://drive.google.com/uc?/export=download&id='\n",
    "            gdown.download(dataset_url,zip_download_dir)\n",
    "\n",
    "            logger.info(f\"Downloaded data from {dataset_url} into file {zip_download_dir}\")\n",
    "\n",
    "        except Exception as e:\n",
    "            raise e\n",
    "        \n",
    "    \n",
    "    def extract_zip_file(self):\n",
    "        \"\"\"\n",
    "        Extracts the downloaded zip file into the target directory.\n",
    "        \"\"\"\n",
    "        with zipfile.ZipFile(self.config.local_data_file, 'r') as zip_ref:\n",
    "            zip_ref.extractall(self.config.unzip_dir)\n",
    "        print(f\"Extracted zip file to {self.config.unzip_dir}.\")\n",
    "\n",
    "\n",
    "    def organize_reformat(self):\n",
    "        \"\"\"\n",
    "        Organizes extracted dataset into the correct flat structure:\n",
    "        - artifacts/data_ingestion/DATENSATZ_NAME/class1/\n",
    "        - artifacts/data_ingestion/DATENSATZ_NAME/class2/\n",
    "        \"\"\"\n",
    "        try:\n",
    "            # Base directory (e.g., artifacts/data_ingestion/extracted)\n",
    "            base_dir = self.config.unzip_dir\n",
    "\n",
    "            # Extract dataset name (e.g., DATASET_NAME)\n",
    "            dataset_name = os.listdir(base_dir)[0]\n",
    "            dataset_dir = os.path.join(base_dir, dataset_name)\n",
    "\n",
    "            if not os.path.isdir(dataset_dir):\n",
    "                raise ValueError(f\"Dataset directory {dataset_dir} does not exist!\")\n",
    "\n",
    "            # Target directory for the reorganized structure\n",
    "            target_dir = os.path.join(self.config.root_dir, dataset_name)\n",
    "            os.makedirs(target_dir, exist_ok=True)\n",
    "\n",
    "            # Directories to process\n",
    "            train_dir = os.path.join(dataset_dir, \"train\")\n",
    "            valid_dir = os.path.join(dataset_dir, \"validation\")\n",
    "\n",
    "            for sub_dir in [train_dir, valid_dir]:\n",
    "                if not os.path.exists(sub_dir):\n",
    "                    raise ValueError(f\"Expected directory {sub_dir} does not exist!\")\n",
    "\n",
    "                # Iterate through classes in train and valid directories\n",
    "                for class_name in os.listdir(sub_dir):\n",
    "                    class_path = os.path.join(sub_dir, class_name)\n",
    "                    if os.path.isdir(class_path):\n",
    "                        # Target directory for this class\n",
    "                        class_target_dir = os.path.join(target_dir, class_name)\n",
    "                        os.makedirs(class_target_dir, exist_ok=True)\n",
    "\n",
    "                        # Move all files from class_path to the target directory\n",
    "                        for file_name in os.listdir(class_path):\n",
    "                            src_file_path = os.path.join(class_path, file_name)\n",
    "                            dst_file_path = os.path.join(class_target_dir, file_name)\n",
    "\n",
    "                            # Move file to the reformatted structure\n",
    "                            shutil.move(src_file_path, dst_file_path)\n",
    "                            #logger.info(f\"Moved file {src_file_path} to {dst_file_path}\")\n",
    "            \n",
    "            # Cleanup: Remove extracted directory and its contents\n",
    "            shutil.rmtree(base_dir)\n",
    "            logger.info(f\"Deleted extracted directory {base_dir} and its contents.\")\n",
    "            logger.info(f\"Dataset successfully reorganized to target structure at {target_dir}.\")\n",
    "\n",
    "        except Exception as e:\n",
    "            logger.error(f\"Error while reorganizing dataset: {e}\")\n",
    "            raise e\n",
    "\n",
    "    def organize(self):\n",
    "        \"\"\"\n",
    "        Organizes the dataset based on the specified storage format.\n",
    "        \"\"\"\n",
    "        if self.config.storage_format == \"reformat\":\n",
    "            self.organize_reformat()\n",
    "        elif self.config.storage_format == \"original\":\n",
    "            print(\"Dataset is already in the correct format. Skipping reformatting.\")\n",
    "        else:\n",
    "            raise ValueError(f\"Unsupported storage format: {self.config.storage_format}\")\n",
    "\n"
   ]
  },
  {
   "cell_type": "code",
   "execution_count": 34,
   "metadata": {},
   "outputs": [
    {
     "name": "stdout",
     "output_type": "stream",
     "text": [
      "[2024-11-27 18:15:11,401: INFO: common: yaml file: config\\config.yaml loaded successfully]\n",
      "[2024-11-27 18:15:11,415: INFO: common: yaml file: params.yaml loaded successfully]\n",
      "[2024-11-27 18:15:11,416: INFO: common: created directory at: artifacts]\n",
      "[2024-11-27 18:15:11,417: INFO: common: created directory at: artifacts/data_ingestion]\n",
      "[2024-11-27 18:15:11,418: INFO: 634175990: Downloading data from https://storage.googleapis.com/mledu-datasets/cats_and_dogs_filtered.zip into file artifacts/data_ingestion/data.zip]\n"
     ]
    },
    {
     "name": "stderr",
     "output_type": "stream",
     "text": [
      "Downloading...\n",
      "From: https://storage.googleapis.com/mledu-datasets/cats_and_dogs_filtered.zip\n",
      "To: C:\\Users\\user\\Desktop\\BHS\\Coding\\3_ML_Ops_Pipeline_AWS\\artifacts\\data_ingestion\\data.zip\n",
      "100%|██████████| 68.6M/68.6M [00:01<00:00, 40.9MB/s]\n"
     ]
    },
    {
     "name": "stdout",
     "output_type": "stream",
     "text": [
      "[2024-11-27 18:15:16,405: INFO: 634175990: Downloaded data from https://storage.googleapis.com/mledu-datasets/cats_and_dogs_filtered.zip into file artifacts/data_ingestion/data.zip]\n",
      "Extracted zip file to artifacts/data_ingestion/extracted.\n",
      "Dataset is already in the correct format. Skipping reformatting.\n"
     ]
    }
   ],
   "source": [
    "# src\\cnnClassifier\\pipeline\\stage_01_data_ingestion.py\n",
    "try:\n",
    "    config = ConfigurationManager()\n",
    "    data_ingestion_config = config.get_data_ingestion_config()\n",
    "    data_ingestion = DataIngestion(config=data_ingestion_config)\n",
    "    data_ingestion.download_file()\n",
    "    data_ingestion.extract_zip_file()\n",
    "    data_ingestion.organize()\n",
    "except Exception as e:\n",
    "    logger.error(f\"Error during data ingestion: {e}\")\n",
    "    raise e"
   ]
  },
  {
   "cell_type": "code",
   "execution_count": null,
   "metadata": {},
   "outputs": [],
   "source": []
  }
 ],
 "metadata": {
  "kernelspec": {
   "display_name": "mlproj",
   "language": "python",
   "name": "python3"
  },
  "language_info": {
   "codemirror_mode": {
    "name": "ipython",
    "version": 3
   },
   "file_extension": ".py",
   "mimetype": "text/x-python",
   "name": "python",
   "nbconvert_exporter": "python",
   "pygments_lexer": "ipython3",
   "version": "3.8.20"
  },
  "orig_nbformat": 4
 },
 "nbformat": 4,
 "nbformat_minor": 2
}
